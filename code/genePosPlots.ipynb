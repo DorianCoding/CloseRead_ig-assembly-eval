{
 "cells": [
  {
   "cell_type": "code",
   "execution_count": 1,
   "id": "bb77a1f6-914d-41e8-b376-1f79b2c58684",
   "metadata": {},
   "outputs": [],
   "source": [
    "import pandas as pd\n",
    "import pysam\n",
    "from Bio import SeqIO\n",
    "import re\n",
    "import os\n",
    "import subprocess\n",
    "import matplotlib.pyplot as plt\n"
   ]
  },
  {
   "cell_type": "code",
   "execution_count": 6,
   "id": "2b83b09b-e641-43aa-a3de-e59ada83b324",
   "metadata": {},
   "outputs": [],
   "source": [
    "igh_pri = pd.read_csv(\"/home1/zhuyixin/zhuyixin_proj/AssmQuality/igGene/mCynVol1.lja.igdetective/combined_genes_IGH.txt\", sep=\"\\t\")\n",
    "igh_alt = pd.read_csv(\"/home1/zhuyixin/zhuyixin_proj/AssmQuality/igGene/mCynVol1.lja.igdetective/combined_genes_IGH.txt\", sep=\"\\t\")\n",
    "igh_pri = igh_pri[igh_pri['Contig'] == \"scaffold_8\"]\n",
    "#igh_alt1 = igh_alt[igh_alt['Contig'] == \"atg001440l_1\"]\n",
    "igh_alt2 = igh_alt[igh_alt['Contig'] == \"hap_ptg000193l_1_1\"]\n",
    "igh_alt = igh_alt[igh_alt['Contig'] == \"contig3\"]"
   ]
  },
  {
   "cell_type": "code",
   "execution_count": 16,
   "id": "a3226605-252a-4f15-be94-f95e58993154",
   "metadata": {},
   "outputs": [
    {
     "data": {
      "text/html": [
       "<div>\n",
       "<style scoped>\n",
       "    .dataframe tbody tr th:only-of-type {\n",
       "        vertical-align: middle;\n",
       "    }\n",
       "\n",
       "    .dataframe tbody tr th {\n",
       "        vertical-align: top;\n",
       "    }\n",
       "\n",
       "    .dataframe thead th {\n",
       "        text-align: right;\n",
       "    }\n",
       "</style>\n",
       "<table border=\"1\" class=\"dataframe\">\n",
       "  <thead>\n",
       "    <tr style=\"text-align: right;\">\n",
       "      <th></th>\n",
       "      <th>GeneType</th>\n",
       "      <th>Contig</th>\n",
       "      <th>Pos</th>\n",
       "      <th>Strand</th>\n",
       "      <th>Sequence</th>\n",
       "      <th>Productive</th>\n",
       "      <th>Locus</th>\n",
       "    </tr>\n",
       "  </thead>\n",
       "  <tbody>\n",
       "    <tr>\n",
       "      <th>249</th>\n",
       "      <td>V</td>\n",
       "      <td>hap_ptg000193l_1_1</td>\n",
       "      <td>11759</td>\n",
       "      <td>-</td>\n",
       "      <td>CAGGTCCAGCTGGTCCAGTCTGGGGCTGAGGTGAAGAAGCCTGGAG...</td>\n",
       "      <td>True</td>\n",
       "      <td>IGH</td>\n",
       "    </tr>\n",
       "    <tr>\n",
       "      <th>250</th>\n",
       "      <td>V</td>\n",
       "      <td>hap_ptg000193l_1_1</td>\n",
       "      <td>20290</td>\n",
       "      <td>-</td>\n",
       "      <td>GAACTGACATTGAGGGAGTCTGGCCCAGGACTGGTGAAGCCCTCGC...</td>\n",
       "      <td>True</td>\n",
       "      <td>IGH</td>\n",
       "    </tr>\n",
       "    <tr>\n",
       "      <th>251</th>\n",
       "      <td>V</td>\n",
       "      <td>hap_ptg000193l_1_1</td>\n",
       "      <td>36833</td>\n",
       "      <td>-</td>\n",
       "      <td>GAGGTGCAGCTGGTGGAGTCCAGGTGAGACTTGGTGCTGACTGTGG...</td>\n",
       "      <td>False</td>\n",
       "      <td>IGH</td>\n",
       "    </tr>\n",
       "    <tr>\n",
       "      <th>252</th>\n",
       "      <td>V</td>\n",
       "      <td>hap_ptg000193l_1_1</td>\n",
       "      <td>47357</td>\n",
       "      <td>-</td>\n",
       "      <td>GAGGTGCAGCTGCAGGAGTCGGGCCCAGGACTGGTGAAGCCCTCAC...</td>\n",
       "      <td>True</td>\n",
       "      <td>IGH</td>\n",
       "    </tr>\n",
       "    <tr>\n",
       "      <th>253</th>\n",
       "      <td>V</td>\n",
       "      <td>hap_ptg000193l_1_1</td>\n",
       "      <td>61098</td>\n",
       "      <td>-</td>\n",
       "      <td>GAGGTGCAGCTGGTGGAGTCCGGGGGAGGCTTGGTGAAGCCTGGAG...</td>\n",
       "      <td>True</td>\n",
       "      <td>IGH</td>\n",
       "    </tr>\n",
       "    <tr>\n",
       "      <th>254</th>\n",
       "      <td>V</td>\n",
       "      <td>hap_ptg000193l_1_1</td>\n",
       "      <td>66832</td>\n",
       "      <td>-</td>\n",
       "      <td>GAGGTGCAGCTGCAGGAGTCGGGCCCAGGACTGGTGAAGCCCTCGC...</td>\n",
       "      <td>True</td>\n",
       "      <td>IGH</td>\n",
       "    </tr>\n",
       "    <tr>\n",
       "      <th>255</th>\n",
       "      <td>V</td>\n",
       "      <td>hap_ptg000193l_1_1</td>\n",
       "      <td>97079</td>\n",
       "      <td>-</td>\n",
       "      <td>AAGGTGCAGCTTCAGGAGTCAGAACCTGGCCTGGTGTAACTTCATA...</td>\n",
       "      <td>False</td>\n",
       "      <td>IGH</td>\n",
       "    </tr>\n",
       "    <tr>\n",
       "      <th>256</th>\n",
       "      <td>V</td>\n",
       "      <td>hap_ptg000193l_1_1</td>\n",
       "      <td>119475</td>\n",
       "      <td>-</td>\n",
       "      <td>GAGGCGCAGCTGCAGGAGTCTGGCCCGGGACTGGTGAAGCCCTCGC...</td>\n",
       "      <td>True</td>\n",
       "      <td>IGH</td>\n",
       "    </tr>\n",
       "    <tr>\n",
       "      <th>257</th>\n",
       "      <td>V</td>\n",
       "      <td>hap_ptg000193l_1_1</td>\n",
       "      <td>139365</td>\n",
       "      <td>-</td>\n",
       "      <td>GAGGTTCAGCTGGTGGAGTCTGGGGAAGGCTGAGTAGAGCCTGGGT...</td>\n",
       "      <td>False</td>\n",
       "      <td>IGH</td>\n",
       "    </tr>\n",
       "    <tr>\n",
       "      <th>258</th>\n",
       "      <td>V</td>\n",
       "      <td>hap_ptg000193l_1_1</td>\n",
       "      <td>145000</td>\n",
       "      <td>-</td>\n",
       "      <td>GAGGTGCAGCTGCAGGAGTTGGGCCCAGGACTGGTGAAGCCCTCGC...</td>\n",
       "      <td>True</td>\n",
       "      <td>IGH</td>\n",
       "    </tr>\n",
       "    <tr>\n",
       "      <th>259</th>\n",
       "      <td>V</td>\n",
       "      <td>hap_ptg000193l_1_1</td>\n",
       "      <td>158908</td>\n",
       "      <td>-</td>\n",
       "      <td>CAGGTGCAGCTGCAGGAGTCGGGCCCAGGACTGGTGAAGCCCTCAC...</td>\n",
       "      <td>True</td>\n",
       "      <td>IGH</td>\n",
       "    </tr>\n",
       "  </tbody>\n",
       "</table>\n",
       "</div>"
      ],
      "text/plain": [
       "    GeneType              Contig     Pos Strand  \\\n",
       "249        V  hap_ptg000193l_1_1   11759      -   \n",
       "250        V  hap_ptg000193l_1_1   20290      -   \n",
       "251        V  hap_ptg000193l_1_1   36833      -   \n",
       "252        V  hap_ptg000193l_1_1   47357      -   \n",
       "253        V  hap_ptg000193l_1_1   61098      -   \n",
       "254        V  hap_ptg000193l_1_1   66832      -   \n",
       "255        V  hap_ptg000193l_1_1   97079      -   \n",
       "256        V  hap_ptg000193l_1_1  119475      -   \n",
       "257        V  hap_ptg000193l_1_1  139365      -   \n",
       "258        V  hap_ptg000193l_1_1  145000      -   \n",
       "259        V  hap_ptg000193l_1_1  158908      -   \n",
       "\n",
       "                                              Sequence Productive Locus  \n",
       "249  CAGGTCCAGCTGGTCCAGTCTGGGGCTGAGGTGAAGAAGCCTGGAG...       True   IGH  \n",
       "250  GAACTGACATTGAGGGAGTCTGGCCCAGGACTGGTGAAGCCCTCGC...       True   IGH  \n",
       "251  GAGGTGCAGCTGGTGGAGTCCAGGTGAGACTTGGTGCTGACTGTGG...      False   IGH  \n",
       "252  GAGGTGCAGCTGCAGGAGTCGGGCCCAGGACTGGTGAAGCCCTCAC...       True   IGH  \n",
       "253  GAGGTGCAGCTGGTGGAGTCCGGGGGAGGCTTGGTGAAGCCTGGAG...       True   IGH  \n",
       "254  GAGGTGCAGCTGCAGGAGTCGGGCCCAGGACTGGTGAAGCCCTCGC...       True   IGH  \n",
       "255  AAGGTGCAGCTTCAGGAGTCAGAACCTGGCCTGGTGTAACTTCATA...      False   IGH  \n",
       "256  GAGGCGCAGCTGCAGGAGTCTGGCCCGGGACTGGTGAAGCCCTCGC...       True   IGH  \n",
       "257  GAGGTTCAGCTGGTGGAGTCTGGGGAAGGCTGAGTAGAGCCTGGGT...      False   IGH  \n",
       "258  GAGGTGCAGCTGCAGGAGTTGGGCCCAGGACTGGTGAAGCCCTCGC...       True   IGH  \n",
       "259  CAGGTGCAGCTGCAGGAGTCGGGCCCAGGACTGGTGAAGCCCTCAC...       True   IGH  "
      ]
     },
     "execution_count": 16,
     "metadata": {},
     "output_type": "execute_result"
    }
   ],
   "source": [
    "igh_alt2"
   ]
  },
  {
   "cell_type": "code",
   "execution_count": 9,
   "id": "0dbaa196-c618-41fb-a833-c21a568e35d3",
   "metadata": {},
   "outputs": [
    {
     "name": "stderr",
     "output_type": "stream",
     "text": [
      "No artists with labels found to put in legend.  Note that artists whose label start with an underscore are ignored when legend() is called with no argument.\n"
     ]
    },
    {
     "data": {
      "image/png": "[encoded data removed]",
      "text/plain": [
       "<Figure size 800x30 with 1 Axes>"
      ]
     },
     "metadata": {},
     "output_type": "display_data"
    }
   ],
   "source": [
    "scale = 500\n",
    "scaled_pos_list = [(pos - igh_pri['Pos'].min()) / (igh_pri['Pos'].max() - igh_pri['Pos'].min()) * scale for pos in igh_pri['Pos']]\n",
    "color_dict = {('V', True) : '#63c765', ('V', False) : '#63c765', 'D' : '#63c765', 'J' : '#63c765'}\n",
    "color_list = [\n",
    "    color_dict.get(\n",
    "        (row['GeneType'], row['Productive']),  # Access 'GeneType' and 'Productive' directly from the row\n",
    "        color_dict.get(row['GeneType'], '#333333') \n",
    "    ) \n",
    "    for index, row in igh_pri.iterrows()\n",
    "]\n",
    "y_list = []\n",
    "y_list.append(1)\n",
    "fig, ax = plt.subplots(figsize=(8, 0.3))\n",
    "plt.bar(scaled_pos_list, y_list, color = color_list)\n",
    "ax.set_xlim([0, 500])  # Extend a bit on both sides\n",
    "ax.set_xticks([])  # Remove x-axis ticks\n",
    "ax.set_yticks([])  # Remove y-axis ticks\n",
    "ax.set_xlabel('')  # Remove x-axis label\n",
    "ax.set_ylabel('')  # Remove y-axis label\n",
    "ax.set_title('')   # Remove title\n",
    "ax.axis('off')\n",
    "ax.legend().set_visible(False)  # Remove legend\n",
    "plt.savefig('../errorPlots/mCanLor2.corr/IGH.pri.genepos.svg', format=\"svg\", dpi=300, bbox_inches='tight')"
   ]
  },
  {
   "cell_type": "code",
   "execution_count": 13,
   "id": "d0169ef8-4d38-49f0-9b69-c670c3463a3e",
   "metadata": {},
   "outputs": [
    {
     "name": "stderr",
     "output_type": "stream",
     "text": [
      "No artists with labels found to put in legend.  Note that artists whose label start with an underscore are ignored when legend() is called with no argument.\n"
     ]
    },
    {
     "data": {
      "image/png": "[encoded data removed]",
      "text/plain": [
       "<Figure size 800x30 with 1 Axes>"
      ]
     },
     "metadata": {},
     "output_type": "display_data"
    }
   ],
   "source": [
    "scale = 500\n",
    "scaled_pos_list = [(pos - igh_alt['Pos'].min()) / (igh_alt['Pos'].max() - igh_alt['Pos'].min()) * scale for pos in igh_alt['Pos']]\n",
    "color_dict = {('V', True) : '#63c765', ('V', False) : '#63c765', 'D' : '#63c765', 'J' : '#63c765'}\n",
    "color_list = [\n",
    "    color_dict.get(\n",
    "        (row['GeneType'], row['Productive']),  # Access 'GeneType' and 'Productive' directly from the row\n",
    "        color_dict.get(row['GeneType'], '#333333')  # Default color if the specific key is not found\n",
    "    ) \n",
    "    for index, row in igh_alt.iterrows()\n",
    "]\n",
    "y_list = []\n",
    "y_list.append(1)\n",
    "fig, ax = plt.subplots(figsize=(8, 0.3))\n",
    "plt.bar(scaled_pos_list, y_list, color = color_list)\n",
    "ax.set_xlim([0, 500])  # Extend a bit on both sides\n",
    "ax.set_xticks([])  # Remove x-axis ticks\n",
    "ax.set_yticks([])  # Remove y-axis ticks\n",
    "ax.set_xlabel('')  # Remove x-axis label\n",
    "ax.set_ylabel('')  # Remove y-axis label\n",
    "ax.set_title('')   # Remove title\n",
    "ax.axis('off')\n",
    "ax.legend().set_visible(False)  # Remove legend\n",
    "plt.savefig('../errorPlots/mCanLor1.corr/IGH.alt1.genepos.svg', format=\"svg\", dpi=300, bbox_inches='tight')"
   ]
  },
  {
   "cell_type": "code",
   "execution_count": 18,
   "id": "01974f38-1b6f-45d6-9910-5a7d688cab3f",
   "metadata": {},
   "outputs": [
    {
     "name": "stderr",
     "output_type": "stream",
     "text": [
      "No artists with labels found to put in legend.  Note that artists whose label start with an underscore are ignored when legend() is called with no argument.\n",
      "No artists with labels found to put in legend.  Note that artists whose label start with an underscore are ignored when legend() is called with no argument.\n"
     ]
    },
    {
     "data": {
      "image/png": "[encoded data removed]",
      "text/plain": [
       "<Figure size 2400x90 with 2 Axes>"
      ]
     },
     "metadata": {},
     "output_type": "display_data"
    }
   ],
   "source": [
    "altLen = max(igh_alt['Pos']) - min(igh_alt['Pos'])\n",
    "#altLen_4 = max(igh_alt1['Pos']) - min(igh_alt1['Pos'])\n",
    "altLen_6 = max(igh_alt2['Pos']) - min(igh_alt2['Pos'])\n",
    "\n",
    "genePlot, axes = plt.subplots(nrows=1, ncols=2, figsize=(8, 0.3), dpi=300, gridspec_kw={'width_ratios': [altLen, altLen_6]}, sharey=True)\n",
    "scale = 500\n",
    "scaled_pos_list = [(pos - igh_alt['Pos'].min()) / (igh_alt['Pos'].max() - igh_alt['Pos'].min()) * scale for pos in igh_alt['Pos']]\n",
    "color_dict = {('V', True) : '#63c765', ('V', False) : '#63c765', 'D' : '#63c765', 'J' : '#63c765'}\n",
    "color_list = [\n",
    "    color_dict.get(\n",
    "        (row['GeneType'], row['Productive']),  # Access 'GeneType' and 'Productive' directly from the row\n",
    "        color_dict.get(row['GeneType'], '#333333')  # Default color if the specific key is not found\n",
    "    ) \n",
    "    for index, row in igh_alt.iterrows()\n",
    "]\n",
    "\n",
    "# scale = 500\n",
    "# scaled_pos_list1 = [(pos - igh_alt1['Pos'].min()) / (igh_alt1['Pos'].max() - igh_alt1['Pos'].min()) * scale for pos in igh_alt1['Pos']]\n",
    "# color_dict1 = {('V', True) : '#6384c7', ('V', False) : '#6384c7', 'D' : '#6384c7', 'J' : '#6384c7'}\n",
    "# color_list1 = [\n",
    "#     color_dict1.get(\n",
    "#         (row['GeneType'], row['Productive']),  # Access 'GeneType' and 'Productive' directly from the row\n",
    "#         color_dict1.get(row['GeneType'], '#333333')  # Default color if the specific key is not found\n",
    "#     ) \n",
    "#     for index, row in igh_alt1.iterrows()\n",
    "# ]\n",
    "\n",
    "scale = 500\n",
    "scaled_pos_list2 = [(pos - igh_alt2['Pos'].min()) / (igh_alt2['Pos'].max() - igh_alt2['Pos'].min()) * scale for pos in igh_alt2['Pos']]\n",
    "color_dict2 = {('V', True) : '#d95b6e', ('V', False) : '#d95b6e', 'D' : '#d95b6e', 'J' : '#d95b6e'}\n",
    "color_list2 = [\n",
    "    color_dict2.get(\n",
    "        (row['GeneType'], row['Productive']),  # Access 'GeneType' and 'Productive' directly from the row\n",
    "        color_dict2.get(row['GeneType'], '#d95b6e')  # Default color if the specific key is not found\n",
    "    ) \n",
    "    for index, row in igh_alt2.iterrows()\n",
    "]\n",
    "\n",
    "y_list = []\n",
    "y_list.append(1)\n",
    "axes[0].bar(scaled_pos_list, y_list, color = color_list)\n",
    "axes[1].bar(scaled_pos_list2, y_list, color = color_list2)\n",
    "#axes[2].bar(scaled_pos_list2, y_list, color = color_list2)\n",
    "\n",
    "axes[0].set_xlim([0, 500])  # Extend a bit on both sides\n",
    "axes[0].set_xticks([])  # Remove x-axis ticks\n",
    "axes[0].set_yticks([])  # Remove y-axis ticks\n",
    "axes[0].set_xlabel('')  # Remove x-axis label\n",
    "axes[0].set_ylabel('')  # Remove y-axis label\n",
    "axes[0].set_title('')   # Remove title\n",
    "axes[0].axis('off')\n",
    "axes[0].legend().set_visible(False)  # Remove legend\n",
    "\n",
    "axes[1].set_xlim([0, 500])  # Extend a bit on both sides\n",
    "axes[1].set_xticks([])  # Remove x-axis ticks\n",
    "axes[1].set_yticks([])  # Remove y-axis ticks\n",
    "axes[1].set_xlabel('')  # Remove x-axis label\n",
    "axes[1].set_ylabel('')  # Remove y-axis label\n",
    "axes[1].set_title('')   # Remove title\n",
    "axes[1].axis('off')\n",
    "axes[1].legend().set_visible(False)  # Remove legend\n",
    "\n",
    "# axes[2].set_xlim([0, 500])  # Extend a bit on both sides\n",
    "# axes[2].set_xticks([])  # Remove x-axis ticks\n",
    "# axes[2].set_yticks([])  # Remove y-axis ticks\n",
    "# axes[2].set_xlabel('')  # Remove x-axis label\n",
    "# axes[2].set_ylabel('')  # Remove y-axis label\n",
    "# axes[2].set_title('')   # Remove title\n",
    "# axes[2].axis('off')\n",
    "# axes[2].legend().set_visible(False)  # Remove legend\n",
    "\n",
    "plt.subplots_adjust(wspace=0)\n",
    "\n",
    "plt.savefig('../errorPlots/mCynVol1.corr/IGH.alt.genepos.svg', format=\"svg\", dpi=300, bbox_inches='tight')"
   ]
  },
  {
   "cell_type": "code",
   "execution_count": 20,
   "id": "1deb411e-78e9-419b-8134-1e0656b43b6a",
   "metadata": {},
   "outputs": [
    {
     "data": {
      "text/plain": [
       "[0.0,\n",
       " 28.987624788479707,\n",
       " 85.199355755051,\n",
       " 120.95902792407695,\n",
       " 167.64979714439107,\n",
       " 187.13344976860188,\n",
       " 289.91022704877366,\n",
       " 366.00996269087796,\n",
       " 433.59451984043386,\n",
       " 452.7417787412759,\n",
       " 500.0]"
      ]
     },
     "execution_count": 20,
     "metadata": {},
     "output_type": "execute_result"
    }
   ],
   "source": [
    "scaled_pos_list2"
   ]
  },
  {
   "cell_type": "code",
   "execution_count": null,
   "id": "8a84f334-5600-47b0-8438-a45dd1862a5c",
   "metadata": {},
   "outputs": [],
   "source": []
  }
 ],
 "metadata": {
  "kernelspec": {
   "display_name": "assembly",
   "language": "python",
   "name": "assembly"
  },
  "language_info": {
   "codemirror_mode": {
    "name": "ipython",
    "version": 3
   },
   "file_extension": ".py",
   "mimetype": "text/x-python",
   "name": "python",
   "nbconvert_exporter": "python",
   "pygments_lexer": "ipython3",
   "version": "3.10.13"
  }
 },
 "nbformat": 4,
 "nbformat_minor": 5
}
