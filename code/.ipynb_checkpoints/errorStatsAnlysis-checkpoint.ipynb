{
 "cells": [
  {
   "cell_type": "code",
   "execution_count": 7,
   "metadata": {},
   "outputs": [],
   "source": [
    "import pandas as pd\n",
    "import matplotlib.pyplot as plt\n",
    "import seaborn as sns\n",
    "from matplotlib.colors import LinearSegmentedColormap\n",
    "from Bio import SeqIO\n"
   ]
  },
  {
   "cell_type": "code",
   "execution_count": 8,
   "metadata": {},
   "outputs": [],
   "source": [
    "def parse_fasta_and_interleaved_phy(fasta_file, phy_file):\n",
    "    \"\"\"\n",
    "    Parses a FASTA file for sequence descriptions and an interleaved PHYLIP file for sequences,\n",
    "    assuming both files contain the sequences in the same order.\n",
    "\n",
    "    :param fasta_file: Path to the FASTA file.\n",
    "    :param phy_file: Path to the interleaved PHYLIP file.\n",
    "    :return: A list of tuples, each containing a sequence description from the FASTA file\n",
    "             and its corresponding sequence from the PHYLIP file.\n",
    "    \"\"\"\n",
    "    # Parse the FASTA file for descriptions\n",
    "    descriptions = [record.description for record in SeqIO.parse(fasta_file, \"fasta\")]\n",
    "    \n",
    "    # Initialize variables for parsing the PHYLIP file\n",
    "    sequences = [''] * len(descriptions)  # Pre-initialize list to hold concatenated sequences\n",
    "    seq_index = 0  # Index to keep track of the current sequence being concatenated\n",
    "\n",
    "    with open(phy_file, 'r') as file:\n",
    "        # First line contains the number of sequences and sequence length, which can be ignored here\n",
    "        num_sequences, sequence_length = map(int, file.readline().strip().split())\n",
    "        \n",
    "        # Verify the number of sequences matches\n",
    "        if num_sequences != len(descriptions):\n",
    "            raise ValueError(\"The number of sequences in the FASTA and PHYLIP files does not match.\")\n",
    "        \n",
    "        for line in file:\n",
    "            line = line.strip()\n",
    "            if line:  # Ignore empty lines\n",
    "                # Extract the sequence part (after the first block of sequences, identifiers are not included)\n",
    "                if seq_index < num_sequences:\n",
    "                    # For the first block of sequences, ignore the first 10 characters (sequence identifier)\n",
    "                    sequences[seq_index] += line[10:].strip()\n",
    "                else:\n",
    "                    # After the first block, directly concatenate sequence data\n",
    "                    sequences[seq_index % num_sequences] += line.strip()\n",
    "                seq_index += 1\n",
    "\n",
    "    # Combine descriptions with sequences\n",
    "    combined_data = list(zip(descriptions, sequences))\n",
    "    return combined_data\n",
    "\n"
   ]
  },
  {
   "cell_type": "code",
   "execution_count": 9,
   "metadata": {},
   "outputs": [],
   "source": [
    "def categorize_sample(sample_type):\n",
    "    \"\"\"\n",
    "    Categorize the sample type into one of the four specified categories.\n",
    "    \"\"\"\n",
    "    if '1alt' in sample_type or '1Malt' in sample_type:\n",
    "        return '1alt'\n",
    "    elif '1pri' in sample_type:\n",
    "        return '1pri'\n",
    "    elif 'altT' in sample_type or 'altF' in sample_type:\n",
    "        return '2alt'\n",
    "    elif 'priT' in sample_type or 'priF' in sample_type:\n",
    "        return '2pri'\n",
    "    return None"
   ]
  },
  {
   "cell_type": "code",
   "execution_count": 10,
   "metadata": {},
   "outputs": [],
   "source": [
    "def prepare_data(fasta_file, phy_file):\n",
    "    sequences = parse_fasta_and_interleaved_phy(fasta_file, phy_file)\n",
    "    # Combine data\n",
    "    data = []\n",
    "    for desc, seq in sequences:\n",
    "        _, _, sample_type,  position, _ = desc.split('_')\n",
    "        category = categorize_sample(sample_type)\n",
    "        if category and position is not None:  # Ensure we have both category and position\n",
    "            data.append((desc, seq, category, position))\n",
    "    \n",
    "    # Sort by genomic position\n",
    "    data.sort(key=lambda x: x[3])\n",
    "    return data\n",
    "\n"
   ]
  },
  {
   "cell_type": "code",
   "execution_count": null,
   "metadata": {},
   "outputs": [],
   "source": []
  },
  {
   "cell_type": "code",
   "execution_count": 11,
   "metadata": {},
   "outputs": [],
   "source": [
    "data = prepare_data(\"../treeBuilding/mCanLor/combined_genes_IGH.fasta\", \"../treeBuilding/mCanLor/combined_genes_IGH.phy\")"
   ]
  },
  {
   "cell_type": "code",
   "execution_count": 12,
   "metadata": {},
   "outputs": [
    {
     "ename": "ModuleNotFoundError",
     "evalue": "No module named 'networkx'",
     "output_type": "error",
     "traceback": [
      "\u001b[0;31m---------------------------------------------------------------------------\u001b[0m",
      "\u001b[0;31mModuleNotFoundError\u001b[0m                       Traceback (most recent call last)",
      "Cell \u001b[0;32mIn[12], line 1\u001b[0m\n\u001b[0;32m----> 1\u001b[0m \u001b[38;5;28;01mimport\u001b[39;00m \u001b[38;5;21;01mnetworkx\u001b[39;00m \u001b[38;5;28;01mas\u001b[39;00m \u001b[38;5;21;01mnx\u001b[39;00m\n\u001b[1;32m      2\u001b[0m \u001b[38;5;28;01mimport\u001b[39;00m \u001b[38;5;21;01mmatplotlib\u001b[39;00m\u001b[38;5;21;01m.\u001b[39;00m\u001b[38;5;21;01mpyplot\u001b[39;00m \u001b[38;5;28;01mas\u001b[39;00m \u001b[38;5;21;01mplt\u001b[39;00m\n\u001b[1;32m      3\u001b[0m \u001b[38;5;28;01mimport\u001b[39;00m \u001b[38;5;21;01mmatplotlib\u001b[39;00m\u001b[38;5;21;01m.\u001b[39;00m\u001b[38;5;21;01mlines\u001b[39;00m \u001b[38;5;28;01mas\u001b[39;00m \u001b[38;5;21;01mmlines\u001b[39;00m\n",
      "\u001b[0;31mModuleNotFoundError\u001b[0m: No module named 'networkx'"
     ]
    }
   ],
   "source": [
    "import networkx as nx\n",
    "import matplotlib.pyplot as plt\n",
    "import matplotlib.lines as mlines\n",
    "\n",
    "# Assuming you have a list of sequences and their genomic positions\n",
    "sequences = [...]  # Your sequence data: [(id1, seq1, position1), (id2, seq2, position2), ...]\n",
    "\n",
    "# Initialize your graph\n",
    "G = nx.Graph()\n",
    "\n",
    "# Add nodes to the graph\n",
    "for seq_id, seq, position in sequences:\n",
    "    G.add_node(seq_id, sequence=seq, position=position)\n",
    "\n",
    "# Compare all pairs of sequences and add edges\n",
    "for i, (id1, seq1, pos1) in enumerate(sequences):\n",
    "    for id2, seq2, pos2 in sequences[i+1:]:\n",
    "        mismatches = count_mismatches(seq1, seq2)\n",
    "        if mismatches == 0:\n",
    "            # Identical sequences - solid blue edge\n",
    "            G.add_edge(id1, id2, color='blue', style='solid')\n",
    "        elif mismatches == 1:\n",
    "            # One mismatch - dashed red edge\n",
    "            G.add_edge(id1, id2, color='red', style='dashed')\n",
    "\n",
    "# Drawing the graph with custom edge styles\n",
    "pos = nx.spring_layout(G)  # Or any layout that suits your data\n",
    "edges = G.edges(data=True)\n",
    "colors = [edata['color'] for u, v, edata in edges]\n",
    "styles = [edata['style'] for u, v, edata in edges]\n",
    "\n",
    "# Draw nodes\n",
    "nx.draw_networkx_nodes(G, pos)\n",
    "# Draw labels\n",
    "nx.draw_networkx_labels(G, pos)\n",
    "\n",
    "# Draw edges with custom styles and colors\n",
    "for (u, v, edata), color, style in zip(edges, colors, styles):\n",
    "    nx.draw_networkx_edges(G, pos, edgelist=[(u, v)], width=2, edge_color=color, style=style)\n",
    "\n",
    "# Create a legend\n",
    "blue_line = mlines.Line2D([], [], color='blue', marker='_', linestyle='-', linewidth=2, label='Identical')\n",
    "red_line = mlines.Line2D([], [], color='red', marker='_', linestyle='--', linewidth=2, label='1 Mismatch')\n",
    "plt.legend(handles=[blue_line, red_line])\n",
    "\n",
    "plt.show()\n"
   ]
  },
  {
   "cell_type": "code",
   "execution_count": 13,
   "metadata": {},
   "outputs": [
    {
     "name": "stdout",
     "output_type": "stream",
     "text": [
      "/bin/bash: pip: command not found\n"
     ]
    }
   ],
   "source": [
    "!pip install networkx\n"
   ]
  },
  {
   "cell_type": "code",
   "execution_count": null,
   "metadata": {},
   "outputs": [],
   "source": []
  }
 ],
 "metadata": {
  "kernelspec": {
   "display_name": "Python 3 (ipykernel)",
   "language": "python",
   "name": "python3"
  },
  "language_info": {
   "codemirror_mode": {
    "name": "ipython",
    "version": 3
   },
   "file_extension": ".py",
   "mimetype": "text/x-python",
   "name": "python",
   "nbconvert_exporter": "python",
   "pygments_lexer": "ipython3",
   "version": "3.11.4"
  }
 },
 "nbformat": 4,
 "nbformat_minor": 4
}
